{
 "cells": [
  {
   "cell_type": "markdown",
   "metadata": {},
   "source": [
    "this command downloads the language model (small size) \n",
    "\n",
    "```sh \n",
    "\tpython -m  spacy download en_core_web_sm\n",
    "```"
   ]
  },
  {
   "cell_type": "code",
   "execution_count": 7,
   "metadata": {},
   "outputs": [],
   "source": [
    "import spacy as sp"
   ]
  },
  {
   "cell_type": "code",
   "execution_count": 8,
   "metadata": {},
   "outputs": [],
   "source": [
    "naturalLanguageProcessing = sp.load('en_core_web_sm')"
   ]
  },
  {
   "cell_type": "code",
   "execution_count": 9,
   "metadata": {},
   "outputs": [],
   "source": [
    "nlpResultDoc_Sentence_1 = naturalLanguageProcessing('Whashington DC is the capital of the United States of America.')\n",
    "\n",
    "#nlpResultDoc = naturalLanguageProcessing('George Whashington was the first President of the United States of America.')\n",
    "\n",
    "#nlpResultDoc = naturalLanguageProcessing('United Airlines has branches in fifty States.')\n"
   ]
  },
  {
   "cell_type": "code",
   "execution_count": 10,
   "metadata": {},
   "outputs": [
    {
     "data": {
      "text/plain": [
       "spacy.tokens.doc.Doc"
      ]
     },
     "execution_count": 10,
     "metadata": {},
     "output_type": "execute_result"
    }
   ],
   "source": [
    "type(nlpResultDoc_Sentence_1)"
   ]
  },
  {
   "cell_type": "markdown",
   "metadata": {},
   "source": [
    "Expected\n",
    "```sh\n",
    "    spacy.tokens.doc.Doc\n",
    "\n",
    "```"
   ]
  },
  {
   "cell_type": "code",
   "execution_count": 11,
   "metadata": {},
   "outputs": [
    {
     "data": {
      "text/plain": [
       "(Whashington DC, the United States of America)"
      ]
     },
     "execution_count": 11,
     "metadata": {},
     "output_type": "execute_result"
    }
   ],
   "source": [
    "nlpResultDoc_Sentence_1.ents"
   ]
  },
  {
   "cell_type": "markdown",
   "metadata": {},
   "source": [
    "Expected\n",
    "```sh\n",
    "    (Whashington DC, the United States of America)\n",
    "\n",
    "```"
   ]
  },
  {
   "cell_type": "code",
   "execution_count": 20,
   "metadata": {},
   "outputs": [],
   "source": [
    "nlpResultDoc_Sentence_Capital = naturalLanguageProcessing(\n",
    "    'Whashington DC is the capital of the United States of America.'\n",
    "    )"
   ]
  },
  {
   "cell_type": "code",
   "execution_count": 21,
   "metadata": {},
   "outputs": [
    {
     "data": {
      "text/plain": [
       "[('Whashington DC', 'GPE'), ('the United States of America', 'GPE')]"
      ]
     },
     "execution_count": 21,
     "metadata": {},
     "output_type": "execute_result"
    }
   ],
   "source": [
    "[(ent.text, ent.label_) for ent in nlpResultDoc_Sentence_Capital.ents]"
   ]
  },
  {
   "cell_type": "code",
   "execution_count": 22,
   "metadata": {},
   "outputs": [],
   "source": [
    "nlpResultDoc_Sentence_President = naturalLanguageProcessing(\n",
    "    'George Whashington was the first President of the United States of America.'\n",
    "    )\n"
   ]
  },
  {
   "cell_type": "code",
   "execution_count": 23,
   "metadata": {},
   "outputs": [
    {
     "data": {
      "text/plain": [
       "[('George Whashington', 'PERSON'),\n",
       " ('first', 'ORDINAL'),\n",
       " ('the United States of America', 'GPE')]"
      ]
     },
     "execution_count": 23,
     "metadata": {},
     "output_type": "execute_result"
    }
   ],
   "source": [
    "[(ent.text, ent.label_) for ent in nlpResultDoc_Sentence_President.ents]"
   ]
  }
 ],
 "metadata": {
  "kernelspec": {
   "display_name": "Python 3.7.13 ('qimono-virtual')",
   "language": "python",
   "name": "python3"
  },
  "language_info": {
   "codemirror_mode": {
    "name": "ipython",
    "version": 3
   },
   "file_extension": ".py",
   "mimetype": "text/x-python",
   "name": "python",
   "nbconvert_exporter": "python",
   "pygments_lexer": "ipython3",
   "version": "3.7.13"
  },
  "orig_nbformat": 4,
  "vscode": {
   "interpreter": {
    "hash": "a8964179e751313dd12e3a029467fc410b07a46de6180dc2f013ae46953947a4"
   }
  }
 },
 "nbformat": 4,
 "nbformat_minor": 2
}

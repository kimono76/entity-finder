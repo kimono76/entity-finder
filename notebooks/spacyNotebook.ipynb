{
 "cells": [
  {
   "cell_type": "markdown",
   "metadata": {},
   "source": [
    "this command downloads the language model (small size) \n",
    "\n",
    "```sh \n",
    "\tpython -m  spacy download en_core_web_sm\n",
    "```"
   ]
  },
  {
   "cell_type": "code",
   "execution_count": 89,
   "metadata": {},
   "outputs": [],
   "source": [
    "import spacy as sp"
   ]
  },
  {
   "cell_type": "code",
   "execution_count": 90,
   "metadata": {},
   "outputs": [],
   "source": [
    "naturalLanguageProcessing = sp.load('en_core_web_sm')"
   ]
  },
  {
   "cell_type": "code",
   "execution_count": 91,
   "metadata": {},
   "outputs": [],
   "source": [
    "nlpResultDoc = naturalLanguageProcessing('Whashington DC is the capital of the United States of America.')\n",
    "\n",
    "#nlpResultDoc = naturalLanguageProcessing('George Whashington was the first President of the United States of America.')\n",
    "\n",
    "#nlpResultDoc = naturalLanguageProcessing('United Airlines has branches in fifty States.')\n"
   ]
  },
  {
   "cell_type": "code",
   "execution_count": 92,
   "metadata": {},
   "outputs": [
    {
     "data": {
      "text/plain": [
       "spacy.tokens.doc.Doc"
      ]
     },
     "execution_count": 92,
     "metadata": {},
     "output_type": "execute_result"
    }
   ],
   "source": [
    "type(nlpResultDoc)"
   ]
  },
  {
   "cell_type": "markdown",
   "metadata": {},
   "source": [
    "Expected\n",
    "```sh\n",
    "    spacy.tokens.doc.Doc\n",
    "\n",
    "```"
   ]
  },
  {
   "cell_type": "code",
   "execution_count": 93,
   "metadata": {},
   "outputs": [
    {
     "data": {
      "text/plain": [
       "(Whashington DC, the United States of America)"
      ]
     },
     "execution_count": 93,
     "metadata": {},
     "output_type": "execute_result"
    }
   ],
   "source": [
    "nlpResultDoc.ents"
   ]
  },
  {
   "cell_type": "markdown",
   "metadata": {},
   "source": [
    "Expected\n",
    "```sh\n",
    "    (Whashington DC, the United States of America)\n",
    "\n",
    "```"
   ]
  },
  {
   "cell_type": "code",
   "execution_count": 94,
   "metadata": {},
   "outputs": [
    {
     "data": {
      "text/plain": [
       "[('Whashington DC', 'GPE'), ('the United States of America', 'GPE')]"
      ]
     },
     "execution_count": 94,
     "metadata": {},
     "output_type": "execute_result"
    }
   ],
   "source": [
    "[(ent.text, ent.label_) for ent in nlpResultDoc.ents]"
   ]
  },
  {
   "cell_type": "markdown",
   "metadata": {},
   "source": [
    "Expected\n",
    "```sh\n",
    "    [('Whashington DC', 'GPE'), ('the United States of America', 'GPE')]\n",
    "```"
   ]
  }
 ],
 "metadata": {
  "interpreter": {
   "hash": "0aa06ecaec2744446b8b40e0a573c99a7a0c4be5f0129ba0d857d0c027357bf8"
  },
  "kernelspec": {
   "display_name": "Python 3.7.11 64-bit ('qimono-virtual': conda)",
   "language": "python",
   "name": "python3"
  },
  "language_info": {
   "codemirror_mode": {
    "name": "ipython",
    "version": 3
   },
   "file_extension": ".py",
   "mimetype": "text/x-python",
   "name": "python",
   "nbconvert_exporter": "python",
   "pygments_lexer": "ipython3",
   "version": "3.7.11"
  },
  "orig_nbformat": 4
 },
 "nbformat": 4,
 "nbformat_minor": 2
}
